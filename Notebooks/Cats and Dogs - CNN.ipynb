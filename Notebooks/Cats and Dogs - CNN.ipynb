{
 "cells": [
  {
   "cell_type": "code",
   "execution_count": 3,
   "metadata": {},
   "outputs": [
    {
     "name": "stdout",
     "output_type": "stream",
     "text": [
      "[name: \"/device:CPU:0\"\n",
      "device_type: \"CPU\"\n",
      "memory_limit: 268435456\n",
      "locality {\n",
      "}\n",
      "incarnation: 10417285223965265910\n",
      ", name: \"/device:GPU:0\"\n",
      "device_type: \"GPU\"\n",
      "memory_limit: 3135687884\n",
      "locality {\n",
      "  bus_id: 1\n",
      "  links {\n",
      "  }\n",
      "}\n",
      "incarnation: 11832656507221156993\n",
      "physical_device_desc: \"device: 0, name: GeForce GTX 1050 Ti, pci bus id: 0000:01:00.0, compute capability: 6.1\"\n",
      "]\n"
     ]
    }
   ],
   "source": [
    "from __future__ import print_function\n",
    "import tensorflow as tf\n",
    "import keras\n",
    "from keras.models import Sequential\n",
    "from keras.layers import Dense, Dropout, Activation, Conv2D, MaxPooling2D, Flatten, Input, ZeroPadding2D\n",
    "from keras.models import Model\n",
    "from keras import regularizers\n",
    "from keras.preprocessing import image\n",
    "from keras.preprocessing.image import ImageDataGenerator\n",
    "import numpy as np\n",
    "import pandas as pd\n",
    "from matplotlib import pyplot as plt\n",
    "from tensorflow.python.client import device_lib\n",
    "from keras.callbacks import EarlyStopping\n",
    "print(device_lib.list_local_devices())\n",
    "%matplotlib inline"
   ]
  },
  {
   "cell_type": "code",
   "execution_count": 5,
   "metadata": {},
   "outputs": [
    {
     "name": "stdout",
     "output_type": "stream",
     "text": [
      "(2000, 128, 128, 3)\n"
     ]
    },
    {
     "data": {
      "text/plain": [
       "(2000, 128, 128, 3)"
      ]
     },
     "execution_count": 5,
     "metadata": {},
     "output_type": "execute_result"
    }
   ],
   "source": [
    "## Loading test and train data\n",
    "## Converting to 3D array\n",
    "## Loading dataset \n",
    "dogs = []\n",
    "cats = []\n",
    "for i in range(1,4001):\n",
    "    img_dog = image.load_img(r\"D:\\Columbia_University\\MS AI\\Lecture 2\\Cats and Dogs\\dataset\\training_set\\dogs\\dog.\" + str(i) \n",
    "                         + \".jpg\", target_size=(128,128))\n",
    "    img_dog = image.img_to_array(img_dog)\n",
    "    dogs.append(img_dog)\n",
    "    \n",
    "    ## For cat\n",
    "    img_cat = image.load_img(r\"D:\\Columbia_University\\MS AI\\Lecture 2\\Cats and Dogs\\dataset\\training_set\\cats\\cat.\" + str(i) \n",
    "                         + \".jpg\", target_size=(128,128))\n",
    "    img_cat = image.img_to_array(img_cat)\n",
    "    cats.append(img_cat)\n",
    "\n",
    "## Converting to array\n",
    "dogs = np.array(dogs)\n",
    "cats = np.array(cats)\n",
    "\n",
    "\n",
    "x_train = np.vstack((dogs, cats))/255\n",
    "# x_train = x_train.reshape(x_train.shape[0], 224, 224, 3)/255\n",
    "y_train = np.concatenate((np.ones((4000,)), np.zeros((4000,))))\n",
    "\n",
    "x_train.shape\n",
    "\n",
    "s = np.arange(x_train.shape[0])\n",
    "np.random.shuffle(s)\n",
    "\n",
    "## Shuffling\n",
    "x_train = x_train[s]\n",
    "y_train = y_train[s]\n",
    "\n",
    "## Loading test dataset \n",
    "dogs = []\n",
    "cats = []\n",
    "for i in range(4001,5001):\n",
    "    img_dog = image.load_img(r\"D:\\Columbia_University\\MS AI\\Lecture 2\\Cats and Dogs\\dataset\\test_set\\dogs\\dog.\" + str(i) \n",
    "                         + \".jpg\", target_size=(128,128))\n",
    "    img_dog = image.img_to_array(img_dog)\n",
    "    dogs.append(img_dog)\n",
    "    \n",
    "    ## For cat\n",
    "    img_cat = image.load_img(r\"D:\\Columbia_University\\MS AI\\Lecture 2\\Cats and Dogs\\dataset\\test_set\\cats\\cat.\" + str(i) \n",
    "                         + \".jpg\", target_size=(128,128))\n",
    "    img_cat = image.img_to_array(img_cat)\n",
    "    cats.append(img_cat)\n",
    "\n",
    "## Converting to array\n",
    "dogs = np.array(dogs)\n",
    "cats = np.array(cats)\n",
    "\n",
    "## Converting to 3D array\n",
    "x_test = np.vstack((dogs, cats))/255\n",
    "# x_train = x_train.reshape(x_train.shape[0], 224, 224, 3)/255\n",
    "y_test = np.concatenate((np.ones((1000,)), np.zeros((1000,))))\n",
    "\n",
    "print(x_test.shape)\n",
    "\n",
    "s = np.arange(x_test.shape[0])\n",
    "np.random.shuffle(s)\n",
    "\n",
    "## Shuffling\n",
    "x_test = x_test[s]\n",
    "y_test = y_test[s]\n",
    "\n",
    "x_test.shape"
   ]
  },
  {
   "cell_type": "code",
   "execution_count": null,
   "metadata": {
    "collapsed": true
   },
   "outputs": [],
   "source": [
    "## Initial Try\n",
    "\n",
    "\"\"\"## Defining Architechture\n",
    "model = Sequential()\n",
    "\n",
    "### 1st Layer\n",
    "model.add(Conv2D(filters=64, kernel_size=(3,3), padding='same', input_shape = (128, 128, 3), activation='relu',))\n",
    "model.add(MaxPooling2D(pool_size=(2, 2),))\n",
    "\n",
    "### 2nd Layer\n",
    "model.add(Conv2D(filters=128, kernel_size=(3,3), padding='same', activation='relu'))\n",
    "model.add(MaxPooling2D(pool_size=(2, 2),))\n",
    "\n",
    "# ### 3rd Layer\n",
    "model.add(Conv2D(filters=128, kernel_size=(3,3), padding='same', activation='relu',))\n",
    "model.add(MaxPooling2D(pool_size=(2, 2),))\n",
    "\n",
    "# ### 4th Layer\n",
    "# model.add(Conv2D(filters=256, kernel_size=(3,3), padding='same', activation='relu'))\n",
    "# model.add(MaxPooling2D(pool_size=(2, 2),))\n",
    "\n",
    "### Flatten\n",
    "model.add(Flatten())\n",
    "\n",
    "### 1st Layer\n",
    "model.add(Dense(128, kernel_regularizer=regularizers.l2(0.01)))\n",
    "model.add(Activation('relu'))\n",
    "# model.add(Dropout(0.4))\n",
    "\n",
    "### 2nd Layer\n",
    "model.add(Dense(64, kernel_regularizer=regularizers.l2(0.01)))\n",
    "model.add(Activation('relu'))\n",
    "# model.add(Dropout(0.3))\n",
    "\n",
    "### Output\n",
    "model.add(Dense(1))\n",
    "model.add(Activation('sigmoid'))\"\"\""
   ]
  },
  {
   "cell_type": "code",
   "execution_count": 9,
   "metadata": {
    "collapsed": true
   },
   "outputs": [],
   "source": [
    "def model(input_shape):\n",
    "    ## Input\n",
    "    X_input = Input(input_shape)\n",
    "    \n",
    "    ## Zero Padding\n",
    "    X = ZeroPadding2D((3, 3))(X_input)\n",
    "    \n",
    "    ## 1st Layer\n",
    "    X = Conv2D(filters=64, kernel_size=(3, 3), padding='same', activation='relu')(X)\n",
    "    X = MaxPooling2D(pool_size=(2, 2))(X)\n",
    "    \n",
    "    ## 2nd Layer\n",
    "    X = Conv2D(filters=64, kernel_size=(3, 3), padding='same', activation='relu')(X)\n",
    "    X = MaxPooling2D(pool_size=(2, 2))(X)\n",
    "    \n",
    "    ## 3rd Layer\n",
    "    X = Conv2D(filters=64, kernel_size=(3, 3), padding='same', activation='relu')(X)\n",
    "    X = MaxPooling2D(pool_size=(2, 2))(X)\n",
    "    \n",
    "    ## Flatten\n",
    "    X = Flatten()(X)\n",
    "    \n",
    "    ## 1st Dense Layer\n",
    "    X = Dense(128, activation='relu', kernel_regularizer=regularizers.l2(0.01))(X)\n",
    "#     X = Dropout(0.5)(X)\n",
    "    \n",
    "    ## 2nd Layer\n",
    "    X = Dense(64, activation='relu')(X)\n",
    "    X = Dropout(0.5)(X)\n",
    "    \n",
    "    ## Output Layer\n",
    "    X = Dense(1, activation='sigmoid')(X)\n",
    "    \n",
    "    # Create model. This creates your Keras model instance, you'll use this instance to train/test the model.\n",
    "    model = Model(inputs = X_input, outputs = X, name='Cats&Dogs')\n",
    "    \n",
    "    return model"
   ]
  },
  {
   "cell_type": "code",
   "execution_count": 10,
   "metadata": {},
   "outputs": [
    {
     "name": "stdout",
     "output_type": "stream",
     "text": [
      "Model: \"Cats&Dogs\"\n",
      "_________________________________________________________________\n",
      "Layer (type)                 Output Shape              Param #   \n",
      "=================================================================\n",
      "input_2 (InputLayer)         (None, 128, 128, 3)       0         \n",
      "_________________________________________________________________\n",
      "zero_padding2d_2 (ZeroPaddin (None, 134, 134, 3)       0         \n",
      "_________________________________________________________________\n",
      "conv2d_4 (Conv2D)            (None, 134, 134, 64)      1792      \n",
      "_________________________________________________________________\n",
      "max_pooling2d_4 (MaxPooling2 (None, 67, 67, 64)        0         \n",
      "_________________________________________________________________\n",
      "conv2d_5 (Conv2D)            (None, 67, 67, 64)        36928     \n",
      "_________________________________________________________________\n",
      "max_pooling2d_5 (MaxPooling2 (None, 33, 33, 64)        0         \n",
      "_________________________________________________________________\n",
      "conv2d_6 (Conv2D)            (None, 33, 33, 64)        36928     \n",
      "_________________________________________________________________\n",
      "max_pooling2d_6 (MaxPooling2 (None, 16, 16, 64)        0         \n",
      "_________________________________________________________________\n",
      "flatten_2 (Flatten)          (None, 16384)             0         \n",
      "_________________________________________________________________\n",
      "dense_4 (Dense)              (None, 128)               2097280   \n",
      "_________________________________________________________________\n",
      "dense_5 (Dense)              (None, 64)                8256      \n",
      "_________________________________________________________________\n",
      "dropout_2 (Dropout)          (None, 64)                0         \n",
      "_________________________________________________________________\n",
      "dense_6 (Dense)              (None, 1)                 65        \n",
      "=================================================================\n",
      "Total params: 2,181,249\n",
      "Trainable params: 2,181,249\n",
      "Non-trainable params: 0\n",
      "_________________________________________________________________\n"
     ]
    }
   ],
   "source": [
    "## Compiling model\n",
    "model = model((128, 128, 3))\n",
    "model.compile(optimizer=\"adam\",\n",
    "              loss='binary_crossentropy',\n",
    "              metrics=['accuracy'],)\n",
    "model.summary()"
   ]
  },
  {
   "cell_type": "code",
   "execution_count": 11,
   "metadata": {
    "scrolled": true
   },
   "outputs": [
    {
     "name": "stdout",
     "output_type": "stream",
     "text": [
      "Train on 7600 samples, validate on 400 samples\n",
      "Epoch 1/15\n",
      "7600/7600 [==============================] - 18s 2ms/step - loss: 0.7826 - accuracy: 0.5675 - val_loss: 0.6635 - val_accuracy: 0.6350\n",
      "Epoch 2/15\n",
      "7600/7600 [==============================] - 17s 2ms/step - loss: 0.6590 - accuracy: 0.6343 - val_loss: 0.6466 - val_accuracy: 0.6750\n",
      "Epoch 3/15\n",
      "7600/7600 [==============================] - 17s 2ms/step - loss: 0.6128 - accuracy: 0.6909 - val_loss: 0.6027 - val_accuracy: 0.7025\n",
      "Epoch 4/15\n",
      "7600/7600 [==============================] - 17s 2ms/step - loss: 0.5856 - accuracy: 0.7113 - val_loss: 0.4939 - val_accuracy: 0.7675\n",
      "Epoch 5/15\n",
      "7600/7600 [==============================] - 17s 2ms/step - loss: 0.5570 - accuracy: 0.7430 - val_loss: 0.5063 - val_accuracy: 0.7925\n",
      "Epoch 6/15\n",
      "7600/7600 [==============================] - 17s 2ms/step - loss: 0.5503 - accuracy: 0.7437 - val_loss: 0.4938 - val_accuracy: 0.7700\n",
      "Epoch 7/15\n",
      "7600/7600 [==============================] - 17s 2ms/step - loss: 0.5201 - accuracy: 0.7638 - val_loss: 0.4657 - val_accuracy: 0.7975\n",
      "Epoch 8/15\n",
      "7600/7600 [==============================] - 17s 2ms/step - loss: 0.4965 - accuracy: 0.7799 - val_loss: 0.4691 - val_accuracy: 0.7825\n",
      "Epoch 9/15\n",
      "7600/7600 [==============================] - 17s 2ms/step - loss: 0.4786 - accuracy: 0.7916 - val_loss: 0.4768 - val_accuracy: 0.7800\n",
      "Epoch 10/15\n",
      "7600/7600 [==============================] - 17s 2ms/step - loss: 0.4723 - accuracy: 0.7982 - val_loss: 0.4056 - val_accuracy: 0.8300\n",
      "Epoch 11/15\n",
      "7600/7600 [==============================] - 17s 2ms/step - loss: 0.4535 - accuracy: 0.8137 - val_loss: 0.4457 - val_accuracy: 0.7950\n",
      "Epoch 12/15\n",
      "7600/7600 [==============================] - 17s 2ms/step - loss: 0.4345 - accuracy: 0.8242 - val_loss: 0.4284 - val_accuracy: 0.8150\n",
      "Epoch 13/15\n",
      "7600/7600 [==============================] - 17s 2ms/step - loss: 0.4099 - accuracy: 0.8417 - val_loss: 0.4908 - val_accuracy: 0.7675\n",
      "Epoch 14/15\n",
      "7600/7600 [==============================] - 17s 2ms/step - loss: 0.4015 - accuracy: 0.8420 - val_loss: 0.4396 - val_accuracy: 0.8000\n",
      "Epoch 15/15\n",
      "7600/7600 [==============================] - 17s 2ms/step - loss: 0.3823 - accuracy: 0.8566 - val_loss: 0.4745 - val_accuracy: 0.7875\n"
     ]
    }
   ],
   "source": [
    "# ## Training the model\n",
    "training_log = model.fit(x=x_train, y=y_train, validation_split=0.05, batch_size=32, epochs=15,)"
   ]
  },
  {
   "cell_type": "code",
   "execution_count": 12,
   "metadata": {},
   "outputs": [
    {
     "name": "stdout",
     "output_type": "stream",
     "text": [
      "2000/2000 [==============================] - 2s 844us/step\n"
     ]
    }
   ],
   "source": [
    "loss, accuracy = model.evaluate(x_test, y_test)"
   ]
  },
  {
   "cell_type": "code",
   "execution_count": 14,
   "metadata": {},
   "outputs": [
    {
     "name": "stdout",
     "output_type": "stream",
     "text": [
      "The accuracy is 0.7885000109672546\n"
     ]
    }
   ],
   "source": [
    "print(f\"The accuracy is {accuracy}\")"
   ]
  }
 ],
 "metadata": {
  "kernelspec": {
   "display_name": "Python 3",
   "language": "python",
   "name": "python3"
  },
  "language_info": {
   "codemirror_mode": {
    "name": "ipython",
    "version": 3
   },
   "file_extension": ".py",
   "mimetype": "text/x-python",
   "name": "python",
   "nbconvert_exporter": "python",
   "pygments_lexer": "ipython3",
   "version": "3.6.4"
  }
 },
 "nbformat": 4,
 "nbformat_minor": 2
}
